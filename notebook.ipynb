{
 "cells": [
  {
   "cell_type": "code",
   "execution_count": 2,
   "metadata": {},
   "outputs": [],
   "source": [
    "import pandas as pd"
   ]
  },
  {
   "cell_type": "code",
   "execution_count": 3,
   "metadata": {},
   "outputs": [],
   "source": [
    "file_to_load = \"HeroesOfPymoli_data.csv\""
   ]
  },
  {
   "cell_type": "code",
   "execution_count": 4,
   "metadata": {},
   "outputs": [
    {
     "data": {
      "text/html": [
       "<div>\n",
       "<style scoped>\n",
       "    .dataframe tbody tr th:only-of-type {\n",
       "        vertical-align: middle;\n",
       "    }\n",
       "\n",
       "    .dataframe tbody tr th {\n",
       "        vertical-align: top;\n",
       "    }\n",
       "\n",
       "    .dataframe thead th {\n",
       "        text-align: right;\n",
       "    }\n",
       "</style>\n",
       "<table border=\"1\" class=\"dataframe\">\n",
       "  <thead>\n",
       "    <tr style=\"text-align: right;\">\n",
       "      <th></th>\n",
       "      <th>Purchase ID</th>\n",
       "      <th>SN</th>\n",
       "      <th>Age</th>\n",
       "      <th>Gender</th>\n",
       "      <th>Item ID</th>\n",
       "      <th>Item Name</th>\n",
       "      <th>Price</th>\n",
       "    </tr>\n",
       "  </thead>\n",
       "  <tbody>\n",
       "    <tr>\n",
       "      <th>0</th>\n",
       "      <td>0</td>\n",
       "      <td>Lisim78</td>\n",
       "      <td>20</td>\n",
       "      <td>Male</td>\n",
       "      <td>108</td>\n",
       "      <td>Extraction, Quickblade Of Trembling Hands</td>\n",
       "      <td>3.53</td>\n",
       "    </tr>\n",
       "    <tr>\n",
       "      <th>1</th>\n",
       "      <td>1</td>\n",
       "      <td>Lisovynya38</td>\n",
       "      <td>40</td>\n",
       "      <td>Male</td>\n",
       "      <td>143</td>\n",
       "      <td>Frenzied Scimitar</td>\n",
       "      <td>1.56</td>\n",
       "    </tr>\n",
       "    <tr>\n",
       "      <th>2</th>\n",
       "      <td>2</td>\n",
       "      <td>Ithergue48</td>\n",
       "      <td>24</td>\n",
       "      <td>Male</td>\n",
       "      <td>92</td>\n",
       "      <td>Final Critic</td>\n",
       "      <td>4.88</td>\n",
       "    </tr>\n",
       "    <tr>\n",
       "      <th>3</th>\n",
       "      <td>3</td>\n",
       "      <td>Chamassasya86</td>\n",
       "      <td>24</td>\n",
       "      <td>Male</td>\n",
       "      <td>100</td>\n",
       "      <td>Blindscythe</td>\n",
       "      <td>3.27</td>\n",
       "    </tr>\n",
       "    <tr>\n",
       "      <th>4</th>\n",
       "      <td>4</td>\n",
       "      <td>Iskosia90</td>\n",
       "      <td>23</td>\n",
       "      <td>Male</td>\n",
       "      <td>131</td>\n",
       "      <td>Fury</td>\n",
       "      <td>1.44</td>\n",
       "    </tr>\n",
       "  </tbody>\n",
       "</table>\n",
       "</div>"
      ],
      "text/plain": [
       "   Purchase ID             SN  Age Gender  Item ID  \\\n",
       "0            0        Lisim78   20   Male      108   \n",
       "1            1    Lisovynya38   40   Male      143   \n",
       "2            2     Ithergue48   24   Male       92   \n",
       "3            3  Chamassasya86   24   Male      100   \n",
       "4            4      Iskosia90   23   Male      131   \n",
       "\n",
       "                                   Item Name  Price  \n",
       "0  Extraction, Quickblade Of Trembling Hands   3.53  \n",
       "1                          Frenzied Scimitar   1.56  \n",
       "2                               Final Critic   4.88  \n",
       "3                                Blindscythe   3.27  \n",
       "4                                       Fury   1.44  "
      ]
     },
     "execution_count": 4,
     "metadata": {},
     "output_type": "execute_result"
    }
   ],
   "source": [
    "#show what data we have to work with \n",
    "purchase_data = pd.read_csv(file_to_load)\n",
    "purchase_data.head()"
   ]
  },
  {
   "cell_type": "code",
   "execution_count": 135,
   "metadata": {},
   "outputs": [
    {
     "name": "stdout",
     "output_type": "stream",
     "text": [
      "576\n"
     ]
    }
   ],
   "source": [
    "#find total number of players - needs to be unique ones\n",
    "total_players = len(purchase_data[\"SN\"].unique())"
   ]
  },
  {
   "cell_type": "code",
   "execution_count": 6,
   "metadata": {},
   "outputs": [
    {
     "data": {
      "text/plain": [
       "179"
      ]
     },
     "execution_count": 6,
     "metadata": {},
     "output_type": "execute_result"
    }
   ],
   "source": [
    "#find number of unique items(games) from Item ID\n",
    "num_unique_item = len(purchase_data[\"Item ID\"].unique())\n",
    "num_unique_item"
   ]
  },
  {
   "cell_type": "code",
   "execution_count": 7,
   "metadata": {},
   "outputs": [
    {
     "data": {
      "text/plain": [
       "3.050987179487176"
      ]
     },
     "execution_count": 7,
     "metadata": {},
     "output_type": "execute_result"
    }
   ],
   "source": [
    "#Find average purchase price \n",
    "avg_price = purchase_data[\"Price\"].mean()\n",
    "avg_price"
   ]
  },
  {
   "cell_type": "code",
   "execution_count": 8,
   "metadata": {},
   "outputs": [
    {
     "data": {
      "text/plain": [
       "780"
      ]
     },
     "execution_count": 8,
     "metadata": {},
     "output_type": "execute_result"
    }
   ],
   "source": [
    "#find total purchase numbers by count\n",
    "total_num_purchase = purchase_data[\"Purchase ID\"].count()\n",
    "total_num_purchase"
   ]
  },
  {
   "cell_type": "code",
   "execution_count": 9,
   "metadata": {},
   "outputs": [
    {
     "data": {
      "text/plain": [
       "2379.77"
      ]
     },
     "execution_count": 9,
     "metadata": {},
     "output_type": "execute_result"
    }
   ],
   "source": [
    "#find total revenue by sum \n",
    "total_revenue = purchase_data[\"Price\"].sum()\n",
    "total_revenue"
   ]
  },
  {
   "cell_type": "code",
   "execution_count": 10,
   "metadata": {},
   "outputs": [
    {
     "data": {
      "text/html": [
       "<div>\n",
       "<style scoped>\n",
       "    .dataframe tbody tr th:only-of-type {\n",
       "        vertical-align: middle;\n",
       "    }\n",
       "\n",
       "    .dataframe tbody tr th {\n",
       "        vertical-align: top;\n",
       "    }\n",
       "\n",
       "    .dataframe thead th {\n",
       "        text-align: right;\n",
       "    }\n",
       "</style>\n",
       "<table border=\"1\" class=\"dataframe\">\n",
       "  <thead>\n",
       "    <tr style=\"text-align: right;\">\n",
       "      <th></th>\n",
       "      <th>Number of Unique Items</th>\n",
       "      <th>Average Price</th>\n",
       "      <th>Number of Purchases</th>\n",
       "      <th>Total Revenue</th>\n",
       "    </tr>\n",
       "  </thead>\n",
       "  <tbody>\n",
       "    <tr>\n",
       "      <th>0</th>\n",
       "      <td>179</td>\n",
       "      <td>3.050987</td>\n",
       "      <td>780</td>\n",
       "      <td>2379.77</td>\n",
       "    </tr>\n",
       "  </tbody>\n",
       "</table>\n",
       "</div>"
      ],
      "text/plain": [
       "   Number of Unique Items  Average Price  Number of Purchases  Total Revenue\n",
       "0                     179       3.050987                  780        2379.77"
      ]
     },
     "execution_count": 10,
     "metadata": {},
     "output_type": "execute_result"
    }
   ],
   "source": [
    "#put all of the above data into a data frame\n",
    "summary_df = pd.DataFrame({\"Number of Unique Items\": [num_unique_item],\n",
    "                              \"Average Price\": avg_price,\n",
    "                              \"Number of Purchases\": total_num_purchase,\n",
    "                              \"Total Revenue\": total_revenue})\n",
    "summary_df"
   ]
  },
  {
   "cell_type": "markdown",
   "metadata": {},
   "source": [
    "# Gender Demographics"
   ]
  },
  {
   "cell_type": "code",
   "execution_count": 21,
   "metadata": {},
   "outputs": [],
   "source": [
    "#find the each gender type in the purchase data\n",
    "maleplayer = purchase_data.loc[purchase_data[\"Gender\"]==\"Male\", :]\n",
    "\n",
    "femaleplayer = purchase_data.loc[purchase_data[\"Gender\"]==\"Female\", :]\n",
    "\n",
    "otherplayer = purchase_data.loc[purchase_data[\"Gender\"]==\"Other / Non-Disclosed\", :]\n"
   ]
  },
  {
   "cell_type": "code",
   "execution_count": 22,
   "metadata": {},
   "outputs": [],
   "source": [
    "#find the total unique SN in that gender for purchase data\n",
    "totalmale =len(maleplayer[\"SN\"].unique())\n",
    "totalfemale = len(femaleplayer[\"SN\"].unique())\n",
    "totalother = len(otherplayer[\"SN\"].unique())"
   ]
  },
  {
   "cell_type": "code",
   "execution_count": 41,
   "metadata": {},
   "outputs": [
    {
     "data": {
      "text/plain": [
       "1.9097222222222223"
      ]
     },
     "execution_count": 41,
     "metadata": {},
     "output_type": "execute_result"
    }
   ],
   "source": [
    "#find the percent for each gender divide by the total players \n",
    "percentmale = totalmale/total_players*100\n",
    "percentfemale = totalfemale/total_players*100\n",
    "percentother = totalother/total_players*100\n",
    "percentother"
   ]
  },
  {
   "cell_type": "code",
   "execution_count": 48,
   "metadata": {
    "scrolled": true
   },
   "outputs": [
    {
     "data": {
      "text/html": [
       "<div>\n",
       "<style scoped>\n",
       "    .dataframe tbody tr th:only-of-type {\n",
       "        vertical-align: middle;\n",
       "    }\n",
       "\n",
       "    .dataframe tbody tr th {\n",
       "        vertical-align: top;\n",
       "    }\n",
       "\n",
       "    .dataframe thead th {\n",
       "        text-align: right;\n",
       "    }\n",
       "</style>\n",
       "<table border=\"1\" class=\"dataframe\">\n",
       "  <thead>\n",
       "    <tr style=\"text-align: right;\">\n",
       "      <th></th>\n",
       "      <th>Total Count</th>\n",
       "      <th>Percentage of Players</th>\n",
       "    </tr>\n",
       "  </thead>\n",
       "  <tbody>\n",
       "    <tr>\n",
       "      <th>Male</th>\n",
       "      <td>484</td>\n",
       "      <td>84.03</td>\n",
       "    </tr>\n",
       "    <tr>\n",
       "      <th>Female</th>\n",
       "      <td>81</td>\n",
       "      <td>14.06</td>\n",
       "    </tr>\n",
       "    <tr>\n",
       "      <th>Other</th>\n",
       "      <td>11</td>\n",
       "      <td>1.91</td>\n",
       "    </tr>\n",
       "  </tbody>\n",
       "</table>\n",
       "</div>"
      ],
      "text/plain": [
       "        Total Count  Percentage of Players\n",
       "Male            484                  84.03\n",
       "Female           81                  14.06\n",
       "Other            11                   1.91"
      ]
     },
     "execution_count": 48,
     "metadata": {},
     "output_type": "execute_result"
    }
   ],
   "source": [
    "#make a data frame for summary of above data by converting the call in into dicts\n",
    "summarydemographics = {\"Total Count\":[totalmale,totalfemale,totalother],'Percentage of Players':[percentmale,percentfemale,percentother]}\n",
    "#need to show the index to apply it to and round the perecentage 2 decimal places\n",
    "df = pd.DataFrame(summarydemographics, index=['Male','Female','Other'])\n",
    "df.round(2)"
   ]
  },
  {
   "cell_type": "markdown",
   "metadata": {},
   "source": [
    "# purchasing analysis(Gender)"
   ]
  },
  {
   "cell_type": "code",
   "execution_count": 49,
   "metadata": {},
   "outputs": [],
   "source": [
    "#find the purchase counts first for each gender\n",
    "malepurchcount = (maleplayer[\"Item ID\"].count())\n",
    "femalepurchcount = (femaleplayer[\"Item ID\"].count())\n",
    "otherpurchcount = (otherplayer[\"Item ID\"].count())"
   ]
  },
  {
   "cell_type": "code",
   "execution_count": 50,
   "metadata": {},
   "outputs": [],
   "source": [
    "#find the average purchase price for each gender \n",
    "avgpurchmale = (maleplayer[\"Price\"].mean())\n",
    "avgpurchfemale = (femaleplayer[\"Price\"].mean())\n",
    "avgpurchother = (otherplayer[\"Price\"].mean())"
   ]
  },
  {
   "cell_type": "code",
   "execution_count": 56,
   "metadata": {},
   "outputs": [
    {
     "data": {
      "text/plain": [
       "50.19"
      ]
     },
     "execution_count": 56,
     "metadata": {},
     "output_type": "execute_result"
    }
   ],
   "source": [
    "#find the total purchase value for each gender \n",
    "totalpurchasemale = (maleplayer[\"Price\"].sum())\n",
    "totalpurchasefemale = (femaleplayer[\"Price\"].sum())\n",
    "totalpurchaseother = (otherplayer[\"Price\"].sum())"
   ]
  },
  {
   "cell_type": "code",
   "execution_count": 86,
   "metadata": {},
   "outputs": [
    {
     "data": {
      "text/plain": [
       "4.5627272727272725"
      ]
     },
     "execution_count": 86,
     "metadata": {},
     "output_type": "execute_result"
    }
   ],
   "source": [
    "#find the average total purchase per person\n",
    "averageppM = totalpurchasemale/totalmale\n",
    "averageppF = totalpurchasefemale/totalfemale\n",
    "averageppO = totalpurchaseother/totalother\n",
    "averageppO"
   ]
  },
  {
   "cell_type": "code",
   "execution_count": 212,
   "metadata": {},
   "outputs": [
    {
     "data": {
      "text/html": [
       "<style  type=\"text/css\" >\n",
       "</style><table id=\"T_ebe3fc5c_bc44_11ea_abc9_482ae364b757\" ><thead>    <tr>        <th class=\"blank level0\" ></th>        <th class=\"col_heading level0 col0\" >Purchase Count</th>        <th class=\"col_heading level0 col1\" >Average Purchase Price</th>        <th class=\"col_heading level0 col2\" >Total Purchase Value</th>        <th class=\"col_heading level0 col3\" >Avg Total Purchase per Person</th>    </tr></thead><tbody>\n",
       "                <tr>\n",
       "                        <th id=\"T_ebe3fc5c_bc44_11ea_abc9_482ae364b757level0_row0\" class=\"row_heading level0 row0\" >Female</th>\n",
       "                        <td id=\"T_ebe3fc5c_bc44_11ea_abc9_482ae364b757row0_col0\" class=\"data row0 col0\" >113</td>\n",
       "                        <td id=\"T_ebe3fc5c_bc44_11ea_abc9_482ae364b757row0_col1\" class=\"data row0 col1\" >$3.20</td>\n",
       "                        <td id=\"T_ebe3fc5c_bc44_11ea_abc9_482ae364b757row0_col2\" class=\"data row0 col2\" >$361.94</td>\n",
       "                        <td id=\"T_ebe3fc5c_bc44_11ea_abc9_482ae364b757row0_col3\" class=\"data row0 col3\" >$4.47</td>\n",
       "            </tr>\n",
       "            <tr>\n",
       "                        <th id=\"T_ebe3fc5c_bc44_11ea_abc9_482ae364b757level0_row1\" class=\"row_heading level0 row1\" >Male</th>\n",
       "                        <td id=\"T_ebe3fc5c_bc44_11ea_abc9_482ae364b757row1_col0\" class=\"data row1 col0\" >652</td>\n",
       "                        <td id=\"T_ebe3fc5c_bc44_11ea_abc9_482ae364b757row1_col1\" class=\"data row1 col1\" >$3.02</td>\n",
       "                        <td id=\"T_ebe3fc5c_bc44_11ea_abc9_482ae364b757row1_col2\" class=\"data row1 col2\" >$1967.64</td>\n",
       "                        <td id=\"T_ebe3fc5c_bc44_11ea_abc9_482ae364b757row1_col3\" class=\"data row1 col3\" >$4.07</td>\n",
       "            </tr>\n",
       "            <tr>\n",
       "                        <th id=\"T_ebe3fc5c_bc44_11ea_abc9_482ae364b757level0_row2\" class=\"row_heading level0 row2\" >Other/Non-Disclosed</th>\n",
       "                        <td id=\"T_ebe3fc5c_bc44_11ea_abc9_482ae364b757row2_col0\" class=\"data row2 col0\" >15</td>\n",
       "                        <td id=\"T_ebe3fc5c_bc44_11ea_abc9_482ae364b757row2_col1\" class=\"data row2 col1\" >$3.35</td>\n",
       "                        <td id=\"T_ebe3fc5c_bc44_11ea_abc9_482ae364b757row2_col2\" class=\"data row2 col2\" >$50.19</td>\n",
       "                        <td id=\"T_ebe3fc5c_bc44_11ea_abc9_482ae364b757row2_col3\" class=\"data row2 col3\" >$4.56</td>\n",
       "            </tr>\n",
       "    </tbody></table>"
      ],
      "text/plain": [
       "<pandas.io.formats.style.Styler at 0x27b7c17eec8>"
      ]
     },
     "execution_count": 212,
     "metadata": {},
     "output_type": "execute_result"
    }
   ],
   "source": [
    "#grab all the data and put into dict with column names\n",
    "summarypurchasing = {\"Purchase Count\":[femalepurchcount,malepurchcount,otherpurchcount],'Average Purchase Price':[avgpurchfemale,avgpurchmale,avgpurchother],'Total Purchase Value':[totalpurchasefemale,totalpurchasemale,totalpurchaseother],\"Avg Total Purchase per Person\":[averageppF,averageppM,averageppO]}\n",
    "#put all this data into the dataframe\n",
    "sumpurchdf = pd.DataFrame(summarypurchasing, index=['Female','Male','Other/Non-Disclosed'])\n",
    "#style the data to show dollar signs and round 2 decimal places\n",
    "df_style = sumpurchdf.style.format({'Average Purchase Price': \"${:.2f}\",'Total Purchase Value': \"${:.2f}\",'Avg Total Purchase per Person': \"${:.2f}\"})\n",
    "df_style"
   ]
  },
  {
   "cell_type": "markdown",
   "metadata": {},
   "source": [
    "# Age Demographics"
   ]
  },
  {
   "cell_type": "code",
   "execution_count": 101,
   "metadata": {},
   "outputs": [
    {
     "name": "stdout",
     "output_type": "stream",
     "text": [
      "45\n",
      "7\n"
     ]
    }
   ],
   "source": [
    "#find min and max of the ages\n",
    "print(purchase_data[\"Age\"].max())\n",
    "print(purchase_data[\"Age\"].min())"
   ]
  },
  {
   "cell_type": "code",
   "execution_count": 137,
   "metadata": {},
   "outputs": [
    {
     "data": {
      "text/plain": [
       "0    20-24\n",
       "1      40+\n",
       "2    20-24\n",
       "3    20-24\n",
       "4    20-24\n",
       "Name: Age, dtype: category\n",
       "Categories (8, object): [<10 < 10 to 14 < 15-19 < 20-24 < 25-29 < 30-34 < 35-39 < 40+]"
      ]
     },
     "execution_count": 137,
     "metadata": {},
     "output_type": "execute_result"
    }
   ],
   "source": [
    "#make bins up to the max age range\n",
    "bins = [0,9.9,14.9,19.9,24.9,29.9,34.9,39.9,44.9]\n",
    "#define the labels you want for your groups\n",
    "group_labels = [\"<10\",\"10 to 14\",\"15-19\",\"20-24\",\"25-29\",\"30-34\",\"35-39\",\"40+\"]\n",
    "#cut the data by age column\n",
    "pd.cut(purchase_data[\"Age\"], bins, labels=group_labels).head()"
   ]
  },
  {
   "cell_type": "code",
   "execution_count": 213,
   "metadata": {},
   "outputs": [
    {
     "data": {
      "text/html": [
       "<div>\n",
       "<style scoped>\n",
       "    .dataframe tbody tr th:only-of-type {\n",
       "        vertical-align: middle;\n",
       "    }\n",
       "\n",
       "    .dataframe tbody tr th {\n",
       "        vertical-align: top;\n",
       "    }\n",
       "\n",
       "    .dataframe thead th {\n",
       "        text-align: right;\n",
       "    }\n",
       "</style>\n",
       "<table border=\"1\" class=\"dataframe\">\n",
       "  <thead>\n",
       "    <tr style=\"text-align: right;\">\n",
       "      <th></th>\n",
       "      <th>Purchase ID</th>\n",
       "      <th>SN</th>\n",
       "      <th>Age</th>\n",
       "      <th>Gender</th>\n",
       "      <th>Item ID</th>\n",
       "      <th>Item Name</th>\n",
       "      <th>Price</th>\n",
       "      <th>Age Group</th>\n",
       "    </tr>\n",
       "  </thead>\n",
       "  <tbody>\n",
       "    <tr>\n",
       "      <th>0</th>\n",
       "      <td>0</td>\n",
       "      <td>Lisim78</td>\n",
       "      <td>20</td>\n",
       "      <td>Male</td>\n",
       "      <td>108</td>\n",
       "      <td>Extraction, Quickblade Of Trembling Hands</td>\n",
       "      <td>3.53</td>\n",
       "      <td>20-24</td>\n",
       "    </tr>\n",
       "    <tr>\n",
       "      <th>1</th>\n",
       "      <td>1</td>\n",
       "      <td>Lisovynya38</td>\n",
       "      <td>40</td>\n",
       "      <td>Male</td>\n",
       "      <td>143</td>\n",
       "      <td>Frenzied Scimitar</td>\n",
       "      <td>1.56</td>\n",
       "      <td>40+</td>\n",
       "    </tr>\n",
       "    <tr>\n",
       "      <th>2</th>\n",
       "      <td>2</td>\n",
       "      <td>Ithergue48</td>\n",
       "      <td>24</td>\n",
       "      <td>Male</td>\n",
       "      <td>92</td>\n",
       "      <td>Final Critic</td>\n",
       "      <td>4.88</td>\n",
       "      <td>20-24</td>\n",
       "    </tr>\n",
       "    <tr>\n",
       "      <th>3</th>\n",
       "      <td>3</td>\n",
       "      <td>Chamassasya86</td>\n",
       "      <td>24</td>\n",
       "      <td>Male</td>\n",
       "      <td>100</td>\n",
       "      <td>Blindscythe</td>\n",
       "      <td>3.27</td>\n",
       "      <td>20-24</td>\n",
       "    </tr>\n",
       "    <tr>\n",
       "      <th>4</th>\n",
       "      <td>4</td>\n",
       "      <td>Iskosia90</td>\n",
       "      <td>23</td>\n",
       "      <td>Male</td>\n",
       "      <td>131</td>\n",
       "      <td>Fury</td>\n",
       "      <td>1.44</td>\n",
       "      <td>20-24</td>\n",
       "    </tr>\n",
       "  </tbody>\n",
       "</table>\n",
       "</div>"
      ],
      "text/plain": [
       "   Purchase ID             SN  Age Gender  Item ID  \\\n",
       "0            0        Lisim78   20   Male      108   \n",
       "1            1    Lisovynya38   40   Male      143   \n",
       "2            2     Ithergue48   24   Male       92   \n",
       "3            3  Chamassasya86   24   Male      100   \n",
       "4            4      Iskosia90   23   Male      131   \n",
       "\n",
       "                                   Item Name  Price Age Group  \n",
       "0  Extraction, Quickblade Of Trembling Hands   3.53     20-24  \n",
       "1                          Frenzied Scimitar   1.56       40+  \n",
       "2                               Final Critic   4.88     20-24  \n",
       "3                                Blindscythe   3.27     20-24  \n",
       "4                                       Fury   1.44     20-24  "
      ]
     },
     "execution_count": 213,
     "metadata": {},
     "output_type": "execute_result"
    }
   ],
   "source": [
    "# Place the data series into a new column inside of the original data frame\n",
    "purchase_data[\"Age Group\"] = pd.cut(purchase_data[\"Age\"], bins, labels=group_labels)\n",
    "purchase_data.head()"
   ]
  },
  {
   "cell_type": "code",
   "execution_count": 214,
   "metadata": {},
   "outputs": [],
   "source": [
    "#show the data gropued by the age group so that is on the left column \n",
    "age_grouped_df = purchase_data.groupby(\"Age Group\")\n",
    "#find number of unique SN by age group \n",
    "age_count = age_grouped_df[\"SN\"].nunique()\n",
    "#find number of unique players \n",
    "totalplayer = purchase_data[\"SN\"].nunique()\n",
    "#find the percent of players based on the \n",
    "age_percent = (age_count/totalplayer)*100"
   ]
  },
  {
   "cell_type": "code",
   "execution_count": 154,
   "metadata": {},
   "outputs": [
    {
     "data": {
      "text/html": [
       "<div>\n",
       "<style scoped>\n",
       "    .dataframe tbody tr th:only-of-type {\n",
       "        vertical-align: middle;\n",
       "    }\n",
       "\n",
       "    .dataframe tbody tr th {\n",
       "        vertical-align: top;\n",
       "    }\n",
       "\n",
       "    .dataframe thead th {\n",
       "        text-align: right;\n",
       "    }\n",
       "</style>\n",
       "<table border=\"1\" class=\"dataframe\">\n",
       "  <thead>\n",
       "    <tr style=\"text-align: right;\">\n",
       "      <th></th>\n",
       "      <th>Total Count</th>\n",
       "      <th>Percentage of Players</th>\n",
       "    </tr>\n",
       "    <tr>\n",
       "      <th>Age Group</th>\n",
       "      <th></th>\n",
       "      <th></th>\n",
       "    </tr>\n",
       "  </thead>\n",
       "  <tbody>\n",
       "    <tr>\n",
       "      <th>&lt;10</th>\n",
       "      <td>17</td>\n",
       "      <td>2.95</td>\n",
       "    </tr>\n",
       "    <tr>\n",
       "      <th>10 to 14</th>\n",
       "      <td>22</td>\n",
       "      <td>3.82</td>\n",
       "    </tr>\n",
       "    <tr>\n",
       "      <th>15-19</th>\n",
       "      <td>107</td>\n",
       "      <td>18.58</td>\n",
       "    </tr>\n",
       "    <tr>\n",
       "      <th>20-24</th>\n",
       "      <td>258</td>\n",
       "      <td>44.79</td>\n",
       "    </tr>\n",
       "    <tr>\n",
       "      <th>25-29</th>\n",
       "      <td>77</td>\n",
       "      <td>13.37</td>\n",
       "    </tr>\n",
       "    <tr>\n",
       "      <th>30-34</th>\n",
       "      <td>52</td>\n",
       "      <td>9.03</td>\n",
       "    </tr>\n",
       "    <tr>\n",
       "      <th>35-39</th>\n",
       "      <td>31</td>\n",
       "      <td>5.38</td>\n",
       "    </tr>\n",
       "    <tr>\n",
       "      <th>40+</th>\n",
       "      <td>11</td>\n",
       "      <td>1.91</td>\n",
       "    </tr>\n",
       "  </tbody>\n",
       "</table>\n",
       "</div>"
      ],
      "text/plain": [
       "           Total Count  Percentage of Players\n",
       "Age Group                                    \n",
       "<10                 17                   2.95\n",
       "10 to 14            22                   3.82\n",
       "15-19              107                  18.58\n",
       "20-24              258                  44.79\n",
       "25-29               77                  13.37\n",
       "30-34               52                   9.03\n",
       "35-39               31                   5.38\n",
       "40+                 11                   1.91"
      ]
     },
     "execution_count": 154,
     "metadata": {},
     "output_type": "execute_result"
    }
   ],
   "source": [
    "#create new DF from the data above\n",
    "age_df = pd.DataFrame({\"Total Count\":age_count, \"Percentage of Players\":age_percent})\n",
    "age_df.round(2)"
   ]
  },
  {
   "cell_type": "markdown",
   "metadata": {},
   "source": [
    "# Purchasing Analysis (Age)"
   ]
  },
  {
   "cell_type": "code",
   "execution_count": 164,
   "metadata": {},
   "outputs": [
    {
     "data": {
      "text/html": [
       "<style  type=\"text/css\" >\n",
       "</style><table id=\"T_fd7bb9ee_bc39_11ea_b3f4_482ae364b757\" ><thead>    <tr>        <th class=\"blank level0\" ></th>        <th class=\"col_heading level0 col0\" >Purchase Count</th>        <th class=\"col_heading level0 col1\" >Average Purchase Price</th>        <th class=\"col_heading level0 col2\" >Total Purchase Value</th>        <th class=\"col_heading level0 col3\" >Avg Total Purchase per Person</th>    </tr>    <tr>        <th class=\"index_name level0\" >Age Group</th>        <th class=\"blank\" ></th>        <th class=\"blank\" ></th>        <th class=\"blank\" ></th>        <th class=\"blank\" ></th>    </tr></thead><tbody>\n",
       "                <tr>\n",
       "                        <th id=\"T_fd7bb9ee_bc39_11ea_b3f4_482ae364b757level0_row0\" class=\"row_heading level0 row0\" ><10</th>\n",
       "                        <td id=\"T_fd7bb9ee_bc39_11ea_b3f4_482ae364b757row0_col0\" class=\"data row0 col0\" >23</td>\n",
       "                        <td id=\"T_fd7bb9ee_bc39_11ea_b3f4_482ae364b757row0_col1\" class=\"data row0 col1\" >$3.35</td>\n",
       "                        <td id=\"T_fd7bb9ee_bc39_11ea_b3f4_482ae364b757row0_col2\" class=\"data row0 col2\" >$77.13</td>\n",
       "                        <td id=\"T_fd7bb9ee_bc39_11ea_b3f4_482ae364b757row0_col3\" class=\"data row0 col3\" >$4.54</td>\n",
       "            </tr>\n",
       "            <tr>\n",
       "                        <th id=\"T_fd7bb9ee_bc39_11ea_b3f4_482ae364b757level0_row1\" class=\"row_heading level0 row1\" >10 to 14</th>\n",
       "                        <td id=\"T_fd7bb9ee_bc39_11ea_b3f4_482ae364b757row1_col0\" class=\"data row1 col0\" >28</td>\n",
       "                        <td id=\"T_fd7bb9ee_bc39_11ea_b3f4_482ae364b757row1_col1\" class=\"data row1 col1\" >$2.96</td>\n",
       "                        <td id=\"T_fd7bb9ee_bc39_11ea_b3f4_482ae364b757row1_col2\" class=\"data row1 col2\" >$82.78</td>\n",
       "                        <td id=\"T_fd7bb9ee_bc39_11ea_b3f4_482ae364b757row1_col3\" class=\"data row1 col3\" >$3.76</td>\n",
       "            </tr>\n",
       "            <tr>\n",
       "                        <th id=\"T_fd7bb9ee_bc39_11ea_b3f4_482ae364b757level0_row2\" class=\"row_heading level0 row2\" >15-19</th>\n",
       "                        <td id=\"T_fd7bb9ee_bc39_11ea_b3f4_482ae364b757row2_col0\" class=\"data row2 col0\" >136</td>\n",
       "                        <td id=\"T_fd7bb9ee_bc39_11ea_b3f4_482ae364b757row2_col1\" class=\"data row2 col1\" >$3.04</td>\n",
       "                        <td id=\"T_fd7bb9ee_bc39_11ea_b3f4_482ae364b757row2_col2\" class=\"data row2 col2\" >$412.89</td>\n",
       "                        <td id=\"T_fd7bb9ee_bc39_11ea_b3f4_482ae364b757row2_col3\" class=\"data row2 col3\" >$3.86</td>\n",
       "            </tr>\n",
       "            <tr>\n",
       "                        <th id=\"T_fd7bb9ee_bc39_11ea_b3f4_482ae364b757level0_row3\" class=\"row_heading level0 row3\" >20-24</th>\n",
       "                        <td id=\"T_fd7bb9ee_bc39_11ea_b3f4_482ae364b757row3_col0\" class=\"data row3 col0\" >365</td>\n",
       "                        <td id=\"T_fd7bb9ee_bc39_11ea_b3f4_482ae364b757row3_col1\" class=\"data row3 col1\" >$3.05</td>\n",
       "                        <td id=\"T_fd7bb9ee_bc39_11ea_b3f4_482ae364b757row3_col2\" class=\"data row3 col2\" >$1114.06</td>\n",
       "                        <td id=\"T_fd7bb9ee_bc39_11ea_b3f4_482ae364b757row3_col3\" class=\"data row3 col3\" >$4.32</td>\n",
       "            </tr>\n",
       "            <tr>\n",
       "                        <th id=\"T_fd7bb9ee_bc39_11ea_b3f4_482ae364b757level0_row4\" class=\"row_heading level0 row4\" >25-29</th>\n",
       "                        <td id=\"T_fd7bb9ee_bc39_11ea_b3f4_482ae364b757row4_col0\" class=\"data row4 col0\" >101</td>\n",
       "                        <td id=\"T_fd7bb9ee_bc39_11ea_b3f4_482ae364b757row4_col1\" class=\"data row4 col1\" >$2.90</td>\n",
       "                        <td id=\"T_fd7bb9ee_bc39_11ea_b3f4_482ae364b757row4_col2\" class=\"data row4 col2\" >$293.00</td>\n",
       "                        <td id=\"T_fd7bb9ee_bc39_11ea_b3f4_482ae364b757row4_col3\" class=\"data row4 col3\" >$3.81</td>\n",
       "            </tr>\n",
       "            <tr>\n",
       "                        <th id=\"T_fd7bb9ee_bc39_11ea_b3f4_482ae364b757level0_row5\" class=\"row_heading level0 row5\" >30-34</th>\n",
       "                        <td id=\"T_fd7bb9ee_bc39_11ea_b3f4_482ae364b757row5_col0\" class=\"data row5 col0\" >73</td>\n",
       "                        <td id=\"T_fd7bb9ee_bc39_11ea_b3f4_482ae364b757row5_col1\" class=\"data row5 col1\" >$2.93</td>\n",
       "                        <td id=\"T_fd7bb9ee_bc39_11ea_b3f4_482ae364b757row5_col2\" class=\"data row5 col2\" >$214.00</td>\n",
       "                        <td id=\"T_fd7bb9ee_bc39_11ea_b3f4_482ae364b757row5_col3\" class=\"data row5 col3\" >$4.12</td>\n",
       "            </tr>\n",
       "            <tr>\n",
       "                        <th id=\"T_fd7bb9ee_bc39_11ea_b3f4_482ae364b757level0_row6\" class=\"row_heading level0 row6\" >35-39</th>\n",
       "                        <td id=\"T_fd7bb9ee_bc39_11ea_b3f4_482ae364b757row6_col0\" class=\"data row6 col0\" >41</td>\n",
       "                        <td id=\"T_fd7bb9ee_bc39_11ea_b3f4_482ae364b757row6_col1\" class=\"data row6 col1\" >$3.60</td>\n",
       "                        <td id=\"T_fd7bb9ee_bc39_11ea_b3f4_482ae364b757row6_col2\" class=\"data row6 col2\" >$147.67</td>\n",
       "                        <td id=\"T_fd7bb9ee_bc39_11ea_b3f4_482ae364b757row6_col3\" class=\"data row6 col3\" >$4.76</td>\n",
       "            </tr>\n",
       "            <tr>\n",
       "                        <th id=\"T_fd7bb9ee_bc39_11ea_b3f4_482ae364b757level0_row7\" class=\"row_heading level0 row7\" >40+</th>\n",
       "                        <td id=\"T_fd7bb9ee_bc39_11ea_b3f4_482ae364b757row7_col0\" class=\"data row7 col0\" >12</td>\n",
       "                        <td id=\"T_fd7bb9ee_bc39_11ea_b3f4_482ae364b757row7_col1\" class=\"data row7 col1\" >$3.04</td>\n",
       "                        <td id=\"T_fd7bb9ee_bc39_11ea_b3f4_482ae364b757row7_col2\" class=\"data row7 col2\" >$36.54</td>\n",
       "                        <td id=\"T_fd7bb9ee_bc39_11ea_b3f4_482ae364b757row7_col3\" class=\"data row7 col3\" >$3.32</td>\n",
       "            </tr>\n",
       "    </tbody></table>"
      ],
      "text/plain": [
       "<pandas.io.formats.style.Styler at 0x27b7be69cc8>"
      ]
     },
     "execution_count": 164,
     "metadata": {},
     "output_type": "execute_result"
    }
   ],
   "source": [
    "#find the data & calcs req for next DF using the binned age data from above \n",
    "purch_count = age_grouped_df[\"Item ID\"].count()\n",
    "avg_price = age_grouped_df[\"Price\"].mean()\n",
    "total_purch_value = age_grouped_df[\"Price\"].sum()\n",
    "avg_total_pp = total_purch_value/age_count\n",
    "\n",
    "#create new dataframe with the above data\n",
    "purch_analysis = pd.DataFrame({\"Purchase Count\":purch_count,\"Average Purchase Price\":avg_price,\"Total Purchase Value\":total_purch_value,\"Avg Total Purchase per Person\":avg_total_pp})\n",
    "\n",
    "#style new data frame with dollar signs and to 2 decimal places\n",
    "analysis_df_style = purch_analysis.style.format({'Average Purchase Price': \"${:.2f}\",'Total Purchase Value': \"${:.2f}\",'Avg Total Purchase per Person': \"${:.2f}\"})\n",
    "analysis_df_style"
   ]
  },
  {
   "cell_type": "markdown",
   "metadata": {},
   "source": [
    "# Top Spenders"
   ]
  },
  {
   "cell_type": "code",
   "execution_count": 180,
   "metadata": {},
   "outputs": [
    {
     "data": {
      "text/html": [
       "<style  type=\"text/css\" >\n",
       "</style><table id=\"T_4f19db50_bc3c_11ea_a123_482ae364b757\" ><thead>    <tr>        <th class=\"blank level0\" ></th>        <th class=\"col_heading level0 col0\" >Purchase Count</th>        <th class=\"col_heading level0 col1\" >Average Purchase Price</th>        <th class=\"col_heading level0 col2\" >Total Purchase Value</th>    </tr>    <tr>        <th class=\"index_name level0\" >SN</th>        <th class=\"blank\" ></th>        <th class=\"blank\" ></th>        <th class=\"blank\" ></th>    </tr></thead><tbody>\n",
       "                <tr>\n",
       "                        <th id=\"T_4f19db50_bc3c_11ea_a123_482ae364b757level0_row0\" class=\"row_heading level0 row0\" >Lisosia93</th>\n",
       "                        <td id=\"T_4f19db50_bc3c_11ea_a123_482ae364b757row0_col0\" class=\"data row0 col0\" >5</td>\n",
       "                        <td id=\"T_4f19db50_bc3c_11ea_a123_482ae364b757row0_col1\" class=\"data row0 col1\" >$3.79</td>\n",
       "                        <td id=\"T_4f19db50_bc3c_11ea_a123_482ae364b757row0_col2\" class=\"data row0 col2\" >$18.96</td>\n",
       "            </tr>\n",
       "            <tr>\n",
       "                        <th id=\"T_4f19db50_bc3c_11ea_a123_482ae364b757level0_row1\" class=\"row_heading level0 row1\" >Idastidru52</th>\n",
       "                        <td id=\"T_4f19db50_bc3c_11ea_a123_482ae364b757row1_col0\" class=\"data row1 col0\" >4</td>\n",
       "                        <td id=\"T_4f19db50_bc3c_11ea_a123_482ae364b757row1_col1\" class=\"data row1 col1\" >$3.86</td>\n",
       "                        <td id=\"T_4f19db50_bc3c_11ea_a123_482ae364b757row1_col2\" class=\"data row1 col2\" >$15.45</td>\n",
       "            </tr>\n",
       "            <tr>\n",
       "                        <th id=\"T_4f19db50_bc3c_11ea_a123_482ae364b757level0_row2\" class=\"row_heading level0 row2\" >Chamjask73</th>\n",
       "                        <td id=\"T_4f19db50_bc3c_11ea_a123_482ae364b757row2_col0\" class=\"data row2 col0\" >3</td>\n",
       "                        <td id=\"T_4f19db50_bc3c_11ea_a123_482ae364b757row2_col1\" class=\"data row2 col1\" >$4.61</td>\n",
       "                        <td id=\"T_4f19db50_bc3c_11ea_a123_482ae364b757row2_col2\" class=\"data row2 col2\" >$13.83</td>\n",
       "            </tr>\n",
       "            <tr>\n",
       "                        <th id=\"T_4f19db50_bc3c_11ea_a123_482ae364b757level0_row3\" class=\"row_heading level0 row3\" >Iral74</th>\n",
       "                        <td id=\"T_4f19db50_bc3c_11ea_a123_482ae364b757row3_col0\" class=\"data row3 col0\" >4</td>\n",
       "                        <td id=\"T_4f19db50_bc3c_11ea_a123_482ae364b757row3_col1\" class=\"data row3 col1\" >$3.40</td>\n",
       "                        <td id=\"T_4f19db50_bc3c_11ea_a123_482ae364b757row3_col2\" class=\"data row3 col2\" >$13.62</td>\n",
       "            </tr>\n",
       "            <tr>\n",
       "                        <th id=\"T_4f19db50_bc3c_11ea_a123_482ae364b757level0_row4\" class=\"row_heading level0 row4\" >Iskadarya95</th>\n",
       "                        <td id=\"T_4f19db50_bc3c_11ea_a123_482ae364b757row4_col0\" class=\"data row4 col0\" >3</td>\n",
       "                        <td id=\"T_4f19db50_bc3c_11ea_a123_482ae364b757row4_col1\" class=\"data row4 col1\" >$4.37</td>\n",
       "                        <td id=\"T_4f19db50_bc3c_11ea_a123_482ae364b757row4_col2\" class=\"data row4 col2\" >$13.10</td>\n",
       "            </tr>\n",
       "    </tbody></table>"
      ],
      "text/plain": [
       "<pandas.io.formats.style.Styler at 0x27b7c0dd7c8>"
      ]
     },
     "execution_count": 180,
     "metadata": {},
     "output_type": "execute_result"
    }
   ],
   "source": [
    "#show the data grouped by the SN \n",
    "top_spender_grouped = purchase_data.groupby(\"SN\") \n",
    "#find the calcs for purch count, avg price, total purchase & avg per person\n",
    "top_purch_count = top_spender_grouped[\"Item ID\"].count()\n",
    "avg_purch_price = top_spender_grouped[\"Price\"].mean()\n",
    "total_purch = top_spender_grouped[\"Price\"].sum()\n",
    "\n",
    "#create new dataframe with the above data\n",
    "top_spender = pd.DataFrame({\"Purchase Count\":top_purch_count,\"Average Purchase Price\":avg_purch_price,\"Total Purchase Value\":total_purch})\n",
    "\n",
    "#style new data frame with dollar signs and to 2 decimal places,desceding by total purch value\n",
    "top_df_sort = top_spender.sort_values(by='Total Purchase Value',ascending=False).head()\n",
    "top_df_style = top_df_sort.style.format({'Average Purchase Price': \"${:.2f}\",'Total Purchase Value': \"${:.2f}\"})\n",
    "top_df_style"
   ]
  },
  {
   "cell_type": "markdown",
   "metadata": {},
   "source": [
    "# Most Popular Items"
   ]
  },
  {
   "cell_type": "code",
   "execution_count": 210,
   "metadata": {},
   "outputs": [
    {
     "data": {
      "text/html": [
       "<style  type=\"text/css\" >\n",
       "</style><table id=\"T_36b84862_bc42_11ea_bb12_482ae364b757\" ><thead>    <tr>        <th class=\"blank\" ></th>        <th class=\"blank level0\" ></th>        <th class=\"col_heading level0 col0\" >Purchase Count</th>        <th class=\"col_heading level0 col1\" >Item Price</th>        <th class=\"col_heading level0 col2\" >Total Purchase Value</th>    </tr>    <tr>        <th class=\"index_name level0\" >Item ID</th>        <th class=\"index_name level1\" >Item Name</th>        <th class=\"blank\" ></th>        <th class=\"blank\" ></th>        <th class=\"blank\" ></th>    </tr></thead><tbody>\n",
       "                <tr>\n",
       "                        <th id=\"T_36b84862_bc42_11ea_bb12_482ae364b757level0_row0\" class=\"row_heading level0 row0\" >92</th>\n",
       "                        <th id=\"T_36b84862_bc42_11ea_bb12_482ae364b757level1_row0\" class=\"row_heading level1 row0\" >Final Critic</th>\n",
       "                        <td id=\"T_36b84862_bc42_11ea_bb12_482ae364b757row0_col0\" class=\"data row0 col0\" >13</td>\n",
       "                        <td id=\"T_36b84862_bc42_11ea_bb12_482ae364b757row0_col1\" class=\"data row0 col1\" >$4.61</td>\n",
       "                        <td id=\"T_36b84862_bc42_11ea_bb12_482ae364b757row0_col2\" class=\"data row0 col2\" >$59.99</td>\n",
       "            </tr>\n",
       "            <tr>\n",
       "                        <th id=\"T_36b84862_bc42_11ea_bb12_482ae364b757level0_row1\" class=\"row_heading level0 row1\" >178</th>\n",
       "                        <th id=\"T_36b84862_bc42_11ea_bb12_482ae364b757level1_row1\" class=\"row_heading level1 row1\" >Oathbreaker, Last Hope of the Breaking Storm</th>\n",
       "                        <td id=\"T_36b84862_bc42_11ea_bb12_482ae364b757row1_col0\" class=\"data row1 col0\" >12</td>\n",
       "                        <td id=\"T_36b84862_bc42_11ea_bb12_482ae364b757row1_col1\" class=\"data row1 col1\" >$4.23</td>\n",
       "                        <td id=\"T_36b84862_bc42_11ea_bb12_482ae364b757row1_col2\" class=\"data row1 col2\" >$50.76</td>\n",
       "            </tr>\n",
       "            <tr>\n",
       "                        <th id=\"T_36b84862_bc42_11ea_bb12_482ae364b757level0_row2\" class=\"row_heading level0 row2\" >145</th>\n",
       "                        <th id=\"T_36b84862_bc42_11ea_bb12_482ae364b757level1_row2\" class=\"row_heading level1 row2\" >Fiery Glass Crusader</th>\n",
       "                        <td id=\"T_36b84862_bc42_11ea_bb12_482ae364b757row2_col0\" class=\"data row2 col0\" >9</td>\n",
       "                        <td id=\"T_36b84862_bc42_11ea_bb12_482ae364b757row2_col1\" class=\"data row2 col1\" >$4.58</td>\n",
       "                        <td id=\"T_36b84862_bc42_11ea_bb12_482ae364b757row2_col2\" class=\"data row2 col2\" >$41.22</td>\n",
       "            </tr>\n",
       "            <tr>\n",
       "                        <th id=\"T_36b84862_bc42_11ea_bb12_482ae364b757level0_row3\" class=\"row_heading level0 row3\" >132</th>\n",
       "                        <th id=\"T_36b84862_bc42_11ea_bb12_482ae364b757level1_row3\" class=\"row_heading level1 row3\" >Persuasion</th>\n",
       "                        <td id=\"T_36b84862_bc42_11ea_bb12_482ae364b757row3_col0\" class=\"data row3 col0\" >9</td>\n",
       "                        <td id=\"T_36b84862_bc42_11ea_bb12_482ae364b757row3_col1\" class=\"data row3 col1\" >$3.22</td>\n",
       "                        <td id=\"T_36b84862_bc42_11ea_bb12_482ae364b757row3_col2\" class=\"data row3 col2\" >$28.99</td>\n",
       "            </tr>\n",
       "            <tr>\n",
       "                        <th id=\"T_36b84862_bc42_11ea_bb12_482ae364b757level0_row4\" class=\"row_heading level0 row4\" >108</th>\n",
       "                        <th id=\"T_36b84862_bc42_11ea_bb12_482ae364b757level1_row4\" class=\"row_heading level1 row4\" >Extraction, Quickblade Of Trembling Hands</th>\n",
       "                        <td id=\"T_36b84862_bc42_11ea_bb12_482ae364b757row4_col0\" class=\"data row4 col0\" >9</td>\n",
       "                        <td id=\"T_36b84862_bc42_11ea_bb12_482ae364b757row4_col1\" class=\"data row4 col1\" >$3.53</td>\n",
       "                        <td id=\"T_36b84862_bc42_11ea_bb12_482ae364b757row4_col2\" class=\"data row4 col2\" >$31.77</td>\n",
       "            </tr>\n",
       "    </tbody></table>"
      ],
      "text/plain": [
       "<pandas.io.formats.style.Styler at 0x27b7c0686c8>"
      ]
     },
     "execution_count": 210,
     "metadata": {},
     "output_type": "execute_result"
    }
   ],
   "source": [
    "#show the data grouped by the item id, item name and the price as requested\n",
    "most_pop_df = purchase_data[[\"Item ID\",\"Item Name\",\"Price\"]]\n",
    "\n",
    "#index needs to be grouped by both Item ID and Item name\n",
    "groupby_pop = most_pop_df.groupby([\"Item ID\",\"Item Name\"])\n",
    "pop_count = groupby_pop[\"Item ID\"].count()\n",
    "pop_price_total = groupby_pop[\"Price\"].sum()\n",
    "item_price = pop_price_total/pop_count\n",
    "\n",
    "#create new dataframe with the above data\n",
    "pop_item_df = pd.DataFrame({\"Purchase Count\":pop_count,\"Item Price\":item_price,\"Total Purchase Value\":pop_price_total})\n",
    "\n",
    "#style new data frame with dollar signs and to 2 decimal places,desceding by purch count\n",
    "pop_df_sort = pop_item_df.sort_values(by='Purchase Count',ascending=False).head()\n",
    "pop_df_style = pop_df_sort.style.format({'Item Price': \"${:.2f}\",'Total Purchase Value': \"${:.2f}\"})\n",
    "pop_df_style"
   ]
  },
  {
   "cell_type": "markdown",
   "metadata": {},
   "source": [
    "# # Most Profitable Items"
   ]
  },
  {
   "cell_type": "code",
   "execution_count": 211,
   "metadata": {},
   "outputs": [
    {
     "data": {
      "text/html": [
       "<style  type=\"text/css\" >\n",
       "</style><table id=\"T_e2d68fba_bc42_11ea_8f94_482ae364b757\" ><thead>    <tr>        <th class=\"blank\" ></th>        <th class=\"blank level0\" ></th>        <th class=\"col_heading level0 col0\" >Purchase Count</th>        <th class=\"col_heading level0 col1\" >Item Price</th>        <th class=\"col_heading level0 col2\" >Total Purchase Value</th>    </tr>    <tr>        <th class=\"index_name level0\" >Item ID</th>        <th class=\"index_name level1\" >Item Name</th>        <th class=\"blank\" ></th>        <th class=\"blank\" ></th>        <th class=\"blank\" ></th>    </tr></thead><tbody>\n",
       "                <tr>\n",
       "                        <th id=\"T_e2d68fba_bc42_11ea_8f94_482ae364b757level0_row0\" class=\"row_heading level0 row0\" >92</th>\n",
       "                        <th id=\"T_e2d68fba_bc42_11ea_8f94_482ae364b757level1_row0\" class=\"row_heading level1 row0\" >Final Critic</th>\n",
       "                        <td id=\"T_e2d68fba_bc42_11ea_8f94_482ae364b757row0_col0\" class=\"data row0 col0\" >13</td>\n",
       "                        <td id=\"T_e2d68fba_bc42_11ea_8f94_482ae364b757row0_col1\" class=\"data row0 col1\" >$4.61</td>\n",
       "                        <td id=\"T_e2d68fba_bc42_11ea_8f94_482ae364b757row0_col2\" class=\"data row0 col2\" >$59.99</td>\n",
       "            </tr>\n",
       "            <tr>\n",
       "                        <th id=\"T_e2d68fba_bc42_11ea_8f94_482ae364b757level0_row1\" class=\"row_heading level0 row1\" >178</th>\n",
       "                        <th id=\"T_e2d68fba_bc42_11ea_8f94_482ae364b757level1_row1\" class=\"row_heading level1 row1\" >Oathbreaker, Last Hope of the Breaking Storm</th>\n",
       "                        <td id=\"T_e2d68fba_bc42_11ea_8f94_482ae364b757row1_col0\" class=\"data row1 col0\" >12</td>\n",
       "                        <td id=\"T_e2d68fba_bc42_11ea_8f94_482ae364b757row1_col1\" class=\"data row1 col1\" >$4.23</td>\n",
       "                        <td id=\"T_e2d68fba_bc42_11ea_8f94_482ae364b757row1_col2\" class=\"data row1 col2\" >$50.76</td>\n",
       "            </tr>\n",
       "            <tr>\n",
       "                        <th id=\"T_e2d68fba_bc42_11ea_8f94_482ae364b757level0_row2\" class=\"row_heading level0 row2\" >82</th>\n",
       "                        <th id=\"T_e2d68fba_bc42_11ea_8f94_482ae364b757level1_row2\" class=\"row_heading level1 row2\" >Nirvana</th>\n",
       "                        <td id=\"T_e2d68fba_bc42_11ea_8f94_482ae364b757row2_col0\" class=\"data row2 col0\" >9</td>\n",
       "                        <td id=\"T_e2d68fba_bc42_11ea_8f94_482ae364b757row2_col1\" class=\"data row2 col1\" >$4.90</td>\n",
       "                        <td id=\"T_e2d68fba_bc42_11ea_8f94_482ae364b757row2_col2\" class=\"data row2 col2\" >$44.10</td>\n",
       "            </tr>\n",
       "            <tr>\n",
       "                        <th id=\"T_e2d68fba_bc42_11ea_8f94_482ae364b757level0_row3\" class=\"row_heading level0 row3\" >145</th>\n",
       "                        <th id=\"T_e2d68fba_bc42_11ea_8f94_482ae364b757level1_row3\" class=\"row_heading level1 row3\" >Fiery Glass Crusader</th>\n",
       "                        <td id=\"T_e2d68fba_bc42_11ea_8f94_482ae364b757row3_col0\" class=\"data row3 col0\" >9</td>\n",
       "                        <td id=\"T_e2d68fba_bc42_11ea_8f94_482ae364b757row3_col1\" class=\"data row3 col1\" >$4.58</td>\n",
       "                        <td id=\"T_e2d68fba_bc42_11ea_8f94_482ae364b757row3_col2\" class=\"data row3 col2\" >$41.22</td>\n",
       "            </tr>\n",
       "            <tr>\n",
       "                        <th id=\"T_e2d68fba_bc42_11ea_8f94_482ae364b757level0_row4\" class=\"row_heading level0 row4\" >103</th>\n",
       "                        <th id=\"T_e2d68fba_bc42_11ea_8f94_482ae364b757level1_row4\" class=\"row_heading level1 row4\" >Singed Scalpel</th>\n",
       "                        <td id=\"T_e2d68fba_bc42_11ea_8f94_482ae364b757row4_col0\" class=\"data row4 col0\" >8</td>\n",
       "                        <td id=\"T_e2d68fba_bc42_11ea_8f94_482ae364b757row4_col1\" class=\"data row4 col1\" >$4.35</td>\n",
       "                        <td id=\"T_e2d68fba_bc42_11ea_8f94_482ae364b757row4_col2\" class=\"data row4 col2\" >$34.80</td>\n",
       "            </tr>\n",
       "    </tbody></table>"
      ],
      "text/plain": [
       "<pandas.io.formats.style.Styler at 0x27b7c081d08>"
      ]
     },
     "execution_count": 211,
     "metadata": {},
     "output_type": "execute_result"
    }
   ],
   "source": [
    "most_pop_df = purchase_data[[\"Item ID\",\"Item Name\",\"Price\"]]\n",
    "groupby_pop = most_pop_df.groupby([\"Item ID\",\"Item Name\"])\n",
    "pop_count = groupby_pop[\"Item ID\"].count()\n",
    "pop_price_total = groupby_pop[\"Price\"].sum()\n",
    "item_price = pop_price_total/pop_count\n",
    "pop_item_df = pd.DataFrame({\"Purchase Count\":pop_count,\"Item Price\":item_price,\"Total Purchase Value\":pop_price_total})\n",
    "\n",
    "pop_df_sort = pop_item_df.sort_values(by='Total Purchase Value',ascending=False).head()\n",
    "pop_df_style = pop_df_sort.style.format({'Item Price': \"${:.2f}\",'Total Purchase Value': \"${:.2f}\"})\n",
    "pop_df_style"
   ]
  },
  {
   "cell_type": "markdown",
   "metadata": {},
   "source": [
    "Obsverable Trends:\n",
    "#1. The age bracket of 20-25 purchases more games than any other age group, however the age bracket of 35-39 is likely to spend more on average per person. \n",
    "#2. Males buy more games than females but the average purchase price for males is lower by 18cents\n",
    "#3. The gamer who has bought the most games is Lisosia93, however Chamjask73 has bought only 2 less games but spends average of 82cents more per game purchased."
   ]
  }
 ],
 "metadata": {
  "kernelspec": {
   "display_name": "Python [conda env:root] *",
   "language": "python",
   "name": "conda-root-py"
  },
  "language_info": {
   "codemirror_mode": {
    "name": "ipython",
    "version": 3
   },
   "file_extension": ".py",
   "mimetype": "text/x-python",
   "name": "python",
   "nbconvert_exporter": "python",
   "pygments_lexer": "ipython3",
   "version": "3.7.6"
  }
 },
 "nbformat": 4,
 "nbformat_minor": 4
}
